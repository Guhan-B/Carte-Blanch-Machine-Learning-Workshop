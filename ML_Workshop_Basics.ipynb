{
  "nbformat": 4,
  "nbformat_minor": 0,
  "metadata": {
    "colab": {
      "provenance": [],
      "collapsed_sections": [
        "TZWOnQu4vQuk",
        "Nt_A2mCvvV-b",
        "Niy_nqlqvfL-",
        "Z8ee9j_DvlAh",
        "hMPoXGQ9vu0R",
        "U7n0Rg92vyRT",
        "lyeKkkQmv49i",
        "2y9Xjq5xv8tg",
        "dMkoFE9SwArN",
        "EzgqyqagwD2-",
        "8EeQCC61wH-6",
        "qX_VoLPjwLO8",
        "FKhdti-EwXwV",
        "tq5EWTlvwfIj",
        "1cjCWZs4wq5p",
        "3p81rkfaw3xN",
        "Sss9LBlxw72x",
        "RS78Np8Dw-yo",
        "Nyb0UV9WyCyO",
        "VttOMMDRzeFz"
      ]
    },
    "kernelspec": {
      "name": "python3",
      "display_name": "Python 3"
    },
    "language_info": {
      "name": "python"
    }
  },
  "cells": [
    {
      "cell_type": "markdown",
      "source": [
        "#Basics of Python Libraries (Numpy, Pandas and MatPlotLib)"
      ],
      "metadata": {
        "id": "VG6pxQItvIsZ"
      }
    },
    {
      "cell_type": "markdown",
      "source": [
        "##Numpy"
      ],
      "metadata": {
        "id": "TZWOnQu4vQuk"
      }
    },
    {
      "cell_type": "code",
      "execution_count": null,
      "metadata": {
        "id": "VptHJBA8hwBW"
      },
      "outputs": [],
      "source": [
        "import numpy as np"
      ]
    },
    {
      "cell_type": "markdown",
      "source": [
        "###Array Creation and Indexing"
      ],
      "metadata": {
        "id": "Nt_A2mCvvV-b"
      }
    },
    {
      "cell_type": "code",
      "source": [
        "#array creation\n",
        "arr = np.array([1, 2, 3, 4, 5])\n",
        "a = np.array([[1,2,3],[4,5,6]])\n",
        "print(arr)\n",
        "#array indexing\n",
        "print(arr[1])\n",
        "print(a[1,2])"
      ],
      "metadata": {
        "colab": {
          "base_uri": "https://localhost:8080/"
        },
        "id": "6vtxB5MOh7Ns",
        "outputId": "229408c2-f493-4e61-a341-f4bb357e7176"
      },
      "execution_count": null,
      "outputs": [
        {
          "output_type": "stream",
          "name": "stdout",
          "text": [
            "[1 2 3 4 5]\n",
            "2\n",
            "6\n"
          ]
        }
      ]
    },
    {
      "cell_type": "markdown",
      "source": [
        "###Creating 1D, 2D, 3D Arrays"
      ],
      "metadata": {
        "id": "Niy_nqlqvfL-"
      }
    },
    {
      "cell_type": "code",
      "source": [
        "arr = np.array([1,2,3])\n",
        "#1-D array\n",
        "print(arr)"
      ],
      "metadata": {
        "colab": {
          "base_uri": "https://localhost:8080/"
        },
        "id": "npRAZeZYh7TM",
        "outputId": "4af37fb7-6c85-40c6-b3a2-849f2cdccc66"
      },
      "execution_count": null,
      "outputs": [
        {
          "output_type": "stream",
          "name": "stdout",
          "text": [
            "[1 2 3]\n"
          ]
        }
      ]
    },
    {
      "cell_type": "code",
      "source": [
        "arr = np.array([[1,2,3],[4,5,6]])\n",
        "#2-D array\n",
        "print(arr)"
      ],
      "metadata": {
        "colab": {
          "base_uri": "https://localhost:8080/"
        },
        "id": "wJUiWVy3h7WD",
        "outputId": "7003e0de-bff0-4fab-f4ea-74220b7d6f06"
      },
      "execution_count": null,
      "outputs": [
        {
          "output_type": "stream",
          "name": "stdout",
          "text": [
            "[[1 2 3]\n",
            " [4 5 6]]\n"
          ]
        }
      ]
    },
    {
      "cell_type": "code",
      "source": [
        "arr = np.array([[[1, 2, 3], [4, 5, 6]], [[1, 2, 3], [4, 5, 6]]])\n",
        "#3-D array\n",
        "print(arr)"
      ],
      "metadata": {
        "colab": {
          "base_uri": "https://localhost:8080/"
        },
        "id": "5vQ8osQ9h7ZA",
        "outputId": "2aafa408-a678-401f-84d6-5929d8f63020"
      },
      "execution_count": null,
      "outputs": [
        {
          "output_type": "stream",
          "name": "stdout",
          "text": [
            "[[[1 2 3]\n",
            "  [4 5 6]]\n",
            "\n",
            " [[1 2 3]\n",
            "  [4 5 6]]]\n"
          ]
        }
      ]
    },
    {
      "cell_type": "markdown",
      "source": [
        "###Concatenation of 2 Numpy Arrays"
      ],
      "metadata": {
        "id": "Z8ee9j_DvlAh"
      }
    },
    {
      "cell_type": "code",
      "source": [
        "#concatenate\n",
        "arr1 = np.array([1,2,3])\n",
        "arr2 = np.array([4,5])\n",
        "arr3 = np.concatenate((arr1,arr2)) \n",
        "print(arr3)"
      ],
      "metadata": {
        "colab": {
          "base_uri": "https://localhost:8080/"
        },
        "id": "FPonDnLTiE4d",
        "outputId": "e1564b33-82b3-4bef-b623-3ab22c9e4560"
      },
      "execution_count": null,
      "outputs": [
        {
          "output_type": "stream",
          "name": "stdout",
          "text": [
            "[1 2 3 4 5]\n"
          ]
        }
      ]
    },
    {
      "cell_type": "markdown",
      "source": [
        "###Copy a Numpy Array"
      ],
      "metadata": {
        "id": "hMPoXGQ9vu0R"
      }
    },
    {
      "cell_type": "code",
      "source": [
        "#copy\n",
        "arr=np.array([1,2,3,4,5])\n",
        "print(arr)\n",
        "carr = arr.copy()\n",
        "arr[2] = 10\n",
        "print(arr)\n",
        "print(carr)"
      ],
      "metadata": {
        "colab": {
          "base_uri": "https://localhost:8080/"
        },
        "id": "gINa19dBiE7M",
        "outputId": "ec8bd5c3-e886-45ca-d343-29440239c3ad"
      },
      "execution_count": null,
      "outputs": [
        {
          "output_type": "stream",
          "name": "stdout",
          "text": [
            "[1 2 3 4 5]\n",
            "[ 1  2 10  4  5]\n",
            "[1 2 3 4 5]\n"
          ]
        }
      ]
    },
    {
      "cell_type": "markdown",
      "source": [
        "###Sorting a Numpy Array"
      ],
      "metadata": {
        "id": "U7n0Rg92vyRT"
      }
    },
    {
      "cell_type": "code",
      "source": [
        "#sort\n",
        "arr = np.array([4,6,3,2,1,5])\n",
        "print(arr)\n",
        "print(np.sort(arr))"
      ],
      "metadata": {
        "colab": {
          "base_uri": "https://localhost:8080/"
        },
        "id": "2f8_XGqyiE-F",
        "outputId": "bbc8258f-dc8e-46fa-9285-964cbd9c5baf"
      },
      "execution_count": null,
      "outputs": [
        {
          "output_type": "stream",
          "name": "stdout",
          "text": [
            "[4 6 3 2 1 5]\n",
            "[1 2 3 4 5 6]\n"
          ]
        }
      ]
    },
    {
      "cell_type": "markdown",
      "source": [
        "###Array Slicing"
      ],
      "metadata": {
        "id": "lyeKkkQmv49i"
      }
    },
    {
      "cell_type": "code",
      "source": [
        "#array slicing\n",
        "arr = np.array([4,6,3,2,1,5])\n",
        "print(arr[1:3])\n",
        "print(arr[:4:2])\n",
        "print(arr[1:5:3])\n",
        "print(arr[-3:-1])"
      ],
      "metadata": {
        "colab": {
          "base_uri": "https://localhost:8080/"
        },
        "id": "ictbUyVfiFBT",
        "outputId": "45f066fd-eecc-49f8-b564-7d45971a5c1e"
      },
      "execution_count": null,
      "outputs": [
        {
          "output_type": "stream",
          "name": "stdout",
          "text": [
            "[6 3]\n",
            "[4 3]\n",
            "[6 1]\n",
            "[2 1]\n"
          ]
        }
      ]
    },
    {
      "cell_type": "markdown",
      "source": [
        "###View array"
      ],
      "metadata": {
        "id": "2y9Xjq5xv8tg"
      }
    },
    {
      "cell_type": "code",
      "source": [
        "#view\n",
        "arr = np.array([4,6,3,2,1,5])\n",
        "print(arr)\n",
        "copyarr = arr.view()\n",
        "arr[2] = 3\n",
        "print(arr)\n",
        "print(copyarr)"
      ],
      "metadata": {
        "colab": {
          "base_uri": "https://localhost:8080/"
        },
        "id": "qYqbD1TMiFEz",
        "outputId": "0336d99c-6c91-4223-9ef0-28b097b9c623"
      },
      "execution_count": null,
      "outputs": [
        {
          "output_type": "stream",
          "name": "stdout",
          "text": [
            "[4 6 3 2 1 5]\n",
            "[4 6 3 2 1 5]\n",
            "[4 6 3 2 1 5]\n"
          ]
        }
      ]
    },
    {
      "cell_type": "markdown",
      "source": [
        "###Dimensions of Array"
      ],
      "metadata": {
        "id": "dMkoFE9SwArN"
      }
    },
    {
      "cell_type": "code",
      "source": [
        "arr = np.array([[1,2,3],[1,2,3]])\n",
        "#ndim\n",
        "print(arr)\n",
        "print('number of dimensions :', arr.ndim)"
      ],
      "metadata": {
        "colab": {
          "base_uri": "https://localhost:8080/"
        },
        "id": "hwe3rpWEiFH_",
        "outputId": "0fab53b7-0ccb-447d-c61d-ffc6329be682"
      },
      "execution_count": null,
      "outputs": [
        {
          "output_type": "stream",
          "name": "stdout",
          "text": [
            "[[1 2 3]\n",
            " [1 2 3]]\n",
            "number of dimensions : 2\n"
          ]
        }
      ]
    },
    {
      "cell_type": "markdown",
      "source": [
        "###Arange in Numpy"
      ],
      "metadata": {
        "id": "EzgqyqagwD2-"
      }
    },
    {
      "cell_type": "code",
      "source": [
        "n = np.arange(5) \n",
        "#arange\n",
        "print(n)"
      ],
      "metadata": {
        "colab": {
          "base_uri": "https://localhost:8080/"
        },
        "id": "6VoTwlg6iFKg",
        "outputId": "218046ae-dc32-4f67-9107-4156e232f47a"
      },
      "execution_count": null,
      "outputs": [
        {
          "output_type": "stream",
          "name": "stdout",
          "text": [
            "[0 1 2 3 4]\n"
          ]
        }
      ]
    },
    {
      "cell_type": "markdown",
      "source": [
        "###Array of ones "
      ],
      "metadata": {
        "id": "8EeQCC61wH-6"
      }
    },
    {
      "cell_type": "code",
      "source": [
        "#1-D ones array\n",
        "a1=np.ones(3,dtype=int)\n",
        "print(a1)\n",
        "#2-D ones array\n",
        "a2=np.ones((3,3))\n",
        "print(a2)"
      ],
      "metadata": {
        "colab": {
          "base_uri": "https://localhost:8080/"
        },
        "id": "bAW7eCWXiFN5",
        "outputId": "8c21680e-675d-423c-97b6-bcbd87846aac"
      },
      "execution_count": null,
      "outputs": [
        {
          "output_type": "stream",
          "name": "stdout",
          "text": [
            "[1 1 1]\n",
            "[[1. 1. 1.]\n",
            " [1. 1. 1.]\n",
            " [1. 1. 1.]]\n"
          ]
        }
      ]
    },
    {
      "cell_type": "markdown",
      "source": [
        "###Reshape an array"
      ],
      "metadata": {
        "id": "qX_VoLPjwLO8"
      }
    },
    {
      "cell_type": "code",
      "source": [
        "arr = np.array([[1, 2, 3, 4], [5, 6, 7, 8]])\n",
        "#shape \n",
        "print(\"Shape in numpy:\\n\", arr.shape)\n",
        "\n",
        "#original array with 1 row\n",
        "a1 = np.arange(8)\n",
        "#reshape array with 2 rows and 4 columns\n",
        "a2 = np.arange(8).reshape(2, 4)\n",
        "print(\"\\nOriginal array : \\n\", a1)\n",
        "print(\"\\narray reshaped with 2 rows and 4 columns : \\n\",a2)"
      ],
      "metadata": {
        "colab": {
          "base_uri": "https://localhost:8080/"
        },
        "id": "Y2dSJu5Wh7bo",
        "outputId": "869fd99e-0475-4b44-c27f-c913a9a3e341"
      },
      "execution_count": null,
      "outputs": [
        {
          "output_type": "stream",
          "name": "stdout",
          "text": [
            "Shape in numpy:\n",
            " (2, 4)\n",
            "\n",
            "Original array : \n",
            " [0 1 2 3 4 5 6 7]\n",
            "\n",
            "array reshaped with 2 rows and 4 columns : \n",
            " [[0 1 2 3]\n",
            " [4 5 6 7]]\n"
          ]
        }
      ]
    },
    {
      "cell_type": "markdown",
      "source": [
        "###Size of an array"
      ],
      "metadata": {
        "id": "FKhdti-EwXwV"
      }
    },
    {
      "cell_type": "code",
      "source": [
        "arr = np.array([[1, 2, 3, 4], [5, 6, 7, 8]])\n",
        "#size\n",
        "print(np.size(arr))\n",
        "print(np.size(arr, 1))"
      ],
      "metadata": {
        "colab": {
          "base_uri": "https://localhost:8080/"
        },
        "id": "PUqUwtFVijLz",
        "outputId": "5bae6521-deeb-4ba2-9754-f24b17c1cce9"
      },
      "execution_count": null,
      "outputs": [
        {
          "output_type": "stream",
          "name": "stdout",
          "text": [
            "8\n",
            "4\n"
          ]
        }
      ]
    },
    {
      "cell_type": "markdown",
      "source": [
        "###Transpose of an array"
      ],
      "metadata": {
        "id": "tq5EWTlvwfIj"
      }
    },
    {
      "cell_type": "code",
      "source": [
        "#transpose of a matrix\n",
        "print(\"Transpose of array\")\n",
        "x = np.array([[1, 3, 5], [11, 35, 56]]) \n",
        "print(np.transpose(x))\n",
        "print(x.T)"
      ],
      "metadata": {
        "colab": {
          "base_uri": "https://localhost:8080/"
        },
        "id": "wraAR8Fein7C",
        "outputId": "c023b48f-7957-4f21-dc9d-08976dea35eb"
      },
      "execution_count": null,
      "outputs": [
        {
          "output_type": "stream",
          "name": "stdout",
          "text": [
            "Transpose of array\n",
            "[[ 1 11]\n",
            " [ 3 35]\n",
            " [ 5 56]]\n",
            "[[ 1 11]\n",
            " [ 3 35]\n",
            " [ 5 56]]\n"
          ]
        }
      ]
    },
    {
      "cell_type": "markdown",
      "source": [
        "###Array of Random Numbers"
      ],
      "metadata": {
        "id": "1cjCWZs4wq5p"
      }
    },
    {
      "cell_type": "code",
      "source": [
        "# 1D Array using random.rand\n",
        "array = np.random.rand(5)\n",
        "print(array);\n",
        "arr = np.random.randint(5)\n",
        "a = np.random.randint(10,size=(2,4))\n",
        "print(arr,\"\\n\",a)"
      ],
      "metadata": {
        "colab": {
          "base_uri": "https://localhost:8080/"
        },
        "id": "dB1tIyqnioDh",
        "outputId": "1d7006d9-94af-47e5-f701-0fc820fd0e10"
      },
      "execution_count": null,
      "outputs": [
        {
          "output_type": "stream",
          "name": "stdout",
          "text": [
            "[0.97208842 0.79839359 0.26470154 0.7569219  0.2692696 ]\n",
            "3 \n",
            " [[6 2 5 5]\n",
            " [5 5 8 6]]\n"
          ]
        }
      ]
    },
    {
      "cell_type": "markdown",
      "source": [
        "##Pandas"
      ],
      "metadata": {
        "id": "3p81rkfaw3xN"
      }
    },
    {
      "cell_type": "code",
      "source": [
        "import pandas as pd"
      ],
      "metadata": {
        "id": "-U5F9Q--ioJs"
      },
      "execution_count": null,
      "outputs": []
    },
    {
      "cell_type": "markdown",
      "source": [
        "###Series"
      ],
      "metadata": {
        "id": "Sss9LBlxw72x"
      }
    },
    {
      "cell_type": "code",
      "source": [
        "#create a series\n",
        "a = [1, 7, 2]\n",
        "myvar = pd.Series(a)\n",
        "print(myvar)\n",
        "print(myvar[0])"
      ],
      "metadata": {
        "colab": {
          "base_uri": "https://localhost:8080/"
        },
        "id": "T8ccPFPdjCo7",
        "outputId": "8517d4d5-2dd3-4185-d5cc-290e2af0cd8d"
      },
      "execution_count": null,
      "outputs": [
        {
          "output_type": "stream",
          "name": "stdout",
          "text": [
            "0    1\n",
            "1    7\n",
            "2    2\n",
            "dtype: int64\n",
            "1\n"
          ]
        }
      ]
    },
    {
      "cell_type": "code",
      "source": [
        "#Create a series with indicex\n",
        "a = [1, 7, 2]\n",
        "myvar = pd.Series(a, index = [\"x\", \"y\", \"z\"])\n",
        "print(myvar)"
      ],
      "metadata": {
        "colab": {
          "base_uri": "https://localhost:8080/"
        },
        "id": "8Cr1QZchjCrx",
        "outputId": "6c49adf9-62b2-4fef-f12f-9cf348f667d4"
      },
      "execution_count": null,
      "outputs": [
        {
          "output_type": "stream",
          "name": "stdout",
          "text": [
            "x    1\n",
            "y    7\n",
            "z    2\n",
            "dtype: int64\n"
          ]
        }
      ]
    },
    {
      "cell_type": "code",
      "source": [
        "#Creating a series from dictionary\n",
        "calories = {\"day1\": 420, \"day2\": 380, \"day3\": 390}\n",
        "myvar = pd.Series(calories)\n",
        "print(myvar)"
      ],
      "metadata": {
        "colab": {
          "base_uri": "https://localhost:8080/"
        },
        "id": "KxxRQ6fhjCu4",
        "outputId": "856fd448-5ce0-4d5c-d714-270751367a61"
      },
      "execution_count": null,
      "outputs": [
        {
          "output_type": "stream",
          "name": "stdout",
          "text": [
            "day1    420\n",
            "day2    380\n",
            "day3    390\n",
            "dtype: int64\n"
          ]
        }
      ]
    },
    {
      "cell_type": "markdown",
      "source": [
        "###Dataframe"
      ],
      "metadata": {
        "id": "RS78Np8Dw-yo"
      }
    },
    {
      "cell_type": "code",
      "source": [
        "data = {\n",
        "  \"calories\": [420, 380, 390],\n",
        "  \"duration\": [50, 40, 45],\n",
        "  \"kilos\": [47, 55, 64]\n",
        "}\n",
        "myvar = pd.DataFrame(data)\n",
        "print(myvar)"
      ],
      "metadata": {
        "colab": {
          "base_uri": "https://localhost:8080/"
        },
        "id": "wmPh-6gYjCyY",
        "outputId": "8b68fbad-cdff-4800-eaf3-f65c95699b7b"
      },
      "execution_count": null,
      "outputs": [
        {
          "output_type": "stream",
          "name": "stdout",
          "text": [
            "   calories  duration  kilos\n",
            "0       420        50     47\n",
            "1       380        40     55\n",
            "2       390        45     64\n"
          ]
        }
      ]
    },
    {
      "cell_type": "code",
      "source": [
        "#loc in dataframe\n",
        "print(myvar.loc[0:2])"
      ],
      "metadata": {
        "colab": {
          "base_uri": "https://localhost:8080/"
        },
        "id": "atW7Wy1ljC6C",
        "outputId": "c48e0ca4-6923-4355-c715-e92451403ea5"
      },
      "execution_count": null,
      "outputs": [
        {
          "output_type": "stream",
          "name": "stdout",
          "text": [
            "   calories  duration  kilos\n",
            "0       420        50     47\n",
            "1       380        40     55\n",
            "2       390        45     64\n"
          ]
        }
      ]
    },
    {
      "cell_type": "code",
      "source": [
        "print(myvar.iloc[0])"
      ],
      "metadata": {
        "colab": {
          "base_uri": "https://localhost:8080/"
        },
        "id": "l25vZgvHx4d6",
        "outputId": "1ff0ac53-e6fd-48e3-a695-6208e800d4af"
      },
      "execution_count": null,
      "outputs": [
        {
          "output_type": "stream",
          "name": "stdout",
          "text": [
            "calories    420\n",
            "duration     50\n",
            "kilos        47\n",
            "Name: 0, dtype: int64\n"
          ]
        }
      ]
    },
    {
      "cell_type": "markdown",
      "source": [
        "###Uploading CSV File using Pandas"
      ],
      "metadata": {
        "id": "Nyb0UV9WyCyO"
      }
    },
    {
      "cell_type": "code",
      "source": [
        "df = pd.read_csv('https://raw.githubusercontent.com/nivedithabofficial/Datasets/main/Dataset1.csv')\n",
        "print(df) "
      ],
      "metadata": {
        "colab": {
          "base_uri": "https://localhost:8080/"
        },
        "id": "wnol8mV0jC9U",
        "outputId": "60d8a21d-781b-4f1f-9836-1917ad3c5bb3"
      },
      "execution_count": null,
      "outputs": [
        {
          "output_type": "stream",
          "name": "stdout",
          "text": [
            "    RID     Age  Income Credit Buying system\n",
            "0     1   youth    high   fair            no\n",
            "1     2   youth    high   good            no\n",
            "2     3  middle    high   fair           yes\n",
            "3     4  senior  middle   fair           yes\n",
            "4     5  senior     low   fair           yes\n",
            "5     6  senior     low   good            no\n",
            "6     7  middle     low   fair           yes\n",
            "7     8   youth  middle   fair            no\n",
            "8     9   youth     low   fair           yes\n",
            "9    10  senior  middle   fair           yes\n",
            "10   11   youth  middle   good           yes\n",
            "11   12  middle  middle   good           yes\n",
            "12   13  middle    high   fair           yes\n",
            "13   14  senior  middle   good            no\n"
          ]
        }
      ]
    },
    {
      "cell_type": "code",
      "source": [
        "df.tail()"
      ],
      "metadata": {
        "colab": {
          "base_uri": "https://localhost:8080/",
          "height": 206
        },
        "id": "SbfufjD1qSgx",
        "outputId": "1ba71981-9681-49ab-e5a4-28dbd0fa03bf"
      },
      "execution_count": null,
      "outputs": [
        {
          "output_type": "execute_result",
          "data": {
            "text/plain": [
              "    RID     Age  Income Credit Buying system\n",
              "9    10  senior  middle   fair           yes\n",
              "10   11   youth  middle   good           yes\n",
              "11   12  middle  middle   good           yes\n",
              "12   13  middle    high   fair           yes\n",
              "13   14  senior  middle   good            no"
            ],
            "text/html": [
              "\n",
              "  <div id=\"df-be84ae63-e8ca-4a18-808d-bc83a61128a3\">\n",
              "    <div class=\"colab-df-container\">\n",
              "      <div>\n",
              "<style scoped>\n",
              "    .dataframe tbody tr th:only-of-type {\n",
              "        vertical-align: middle;\n",
              "    }\n",
              "\n",
              "    .dataframe tbody tr th {\n",
              "        vertical-align: top;\n",
              "    }\n",
              "\n",
              "    .dataframe thead th {\n",
              "        text-align: right;\n",
              "    }\n",
              "</style>\n",
              "<table border=\"1\" class=\"dataframe\">\n",
              "  <thead>\n",
              "    <tr style=\"text-align: right;\">\n",
              "      <th></th>\n",
              "      <th>RID</th>\n",
              "      <th>Age</th>\n",
              "      <th>Income</th>\n",
              "      <th>Credit</th>\n",
              "      <th>Buying system</th>\n",
              "    </tr>\n",
              "  </thead>\n",
              "  <tbody>\n",
              "    <tr>\n",
              "      <th>9</th>\n",
              "      <td>10</td>\n",
              "      <td>senior</td>\n",
              "      <td>middle</td>\n",
              "      <td>fair</td>\n",
              "      <td>yes</td>\n",
              "    </tr>\n",
              "    <tr>\n",
              "      <th>10</th>\n",
              "      <td>11</td>\n",
              "      <td>youth</td>\n",
              "      <td>middle</td>\n",
              "      <td>good</td>\n",
              "      <td>yes</td>\n",
              "    </tr>\n",
              "    <tr>\n",
              "      <th>11</th>\n",
              "      <td>12</td>\n",
              "      <td>middle</td>\n",
              "      <td>middle</td>\n",
              "      <td>good</td>\n",
              "      <td>yes</td>\n",
              "    </tr>\n",
              "    <tr>\n",
              "      <th>12</th>\n",
              "      <td>13</td>\n",
              "      <td>middle</td>\n",
              "      <td>high</td>\n",
              "      <td>fair</td>\n",
              "      <td>yes</td>\n",
              "    </tr>\n",
              "    <tr>\n",
              "      <th>13</th>\n",
              "      <td>14</td>\n",
              "      <td>senior</td>\n",
              "      <td>middle</td>\n",
              "      <td>good</td>\n",
              "      <td>no</td>\n",
              "    </tr>\n",
              "  </tbody>\n",
              "</table>\n",
              "</div>\n",
              "      <button class=\"colab-df-convert\" onclick=\"convertToInteractive('df-be84ae63-e8ca-4a18-808d-bc83a61128a3')\"\n",
              "              title=\"Convert this dataframe to an interactive table.\"\n",
              "              style=\"display:none;\">\n",
              "        \n",
              "  <svg xmlns=\"http://www.w3.org/2000/svg\" height=\"24px\"viewBox=\"0 0 24 24\"\n",
              "       width=\"24px\">\n",
              "    <path d=\"M0 0h24v24H0V0z\" fill=\"none\"/>\n",
              "    <path d=\"M18.56 5.44l.94 2.06.94-2.06 2.06-.94-2.06-.94-.94-2.06-.94 2.06-2.06.94zm-11 1L8.5 8.5l.94-2.06 2.06-.94-2.06-.94L8.5 2.5l-.94 2.06-2.06.94zm10 10l.94 2.06.94-2.06 2.06-.94-2.06-.94-.94-2.06-.94 2.06-2.06.94z\"/><path d=\"M17.41 7.96l-1.37-1.37c-.4-.4-.92-.59-1.43-.59-.52 0-1.04.2-1.43.59L10.3 9.45l-7.72 7.72c-.78.78-.78 2.05 0 2.83L4 21.41c.39.39.9.59 1.41.59.51 0 1.02-.2 1.41-.59l7.78-7.78 2.81-2.81c.8-.78.8-2.07 0-2.86zM5.41 20L4 18.59l7.72-7.72 1.47 1.35L5.41 20z\"/>\n",
              "  </svg>\n",
              "      </button>\n",
              "      \n",
              "  <style>\n",
              "    .colab-df-container {\n",
              "      display:flex;\n",
              "      flex-wrap:wrap;\n",
              "      gap: 12px;\n",
              "    }\n",
              "\n",
              "    .colab-df-convert {\n",
              "      background-color: #E8F0FE;\n",
              "      border: none;\n",
              "      border-radius: 50%;\n",
              "      cursor: pointer;\n",
              "      display: none;\n",
              "      fill: #1967D2;\n",
              "      height: 32px;\n",
              "      padding: 0 0 0 0;\n",
              "      width: 32px;\n",
              "    }\n",
              "\n",
              "    .colab-df-convert:hover {\n",
              "      background-color: #E2EBFA;\n",
              "      box-shadow: 0px 1px 2px rgba(60, 64, 67, 0.3), 0px 1px 3px 1px rgba(60, 64, 67, 0.15);\n",
              "      fill: #174EA6;\n",
              "    }\n",
              "\n",
              "    [theme=dark] .colab-df-convert {\n",
              "      background-color: #3B4455;\n",
              "      fill: #D2E3FC;\n",
              "    }\n",
              "\n",
              "    [theme=dark] .colab-df-convert:hover {\n",
              "      background-color: #434B5C;\n",
              "      box-shadow: 0px 1px 3px 1px rgba(0, 0, 0, 0.15);\n",
              "      filter: drop-shadow(0px 1px 2px rgba(0, 0, 0, 0.3));\n",
              "      fill: #FFFFFF;\n",
              "    }\n",
              "  </style>\n",
              "\n",
              "      <script>\n",
              "        const buttonEl =\n",
              "          document.querySelector('#df-be84ae63-e8ca-4a18-808d-bc83a61128a3 button.colab-df-convert');\n",
              "        buttonEl.style.display =\n",
              "          google.colab.kernel.accessAllowed ? 'block' : 'none';\n",
              "\n",
              "        async function convertToInteractive(key) {\n",
              "          const element = document.querySelector('#df-be84ae63-e8ca-4a18-808d-bc83a61128a3');\n",
              "          const dataTable =\n",
              "            await google.colab.kernel.invokeFunction('convertToInteractive',\n",
              "                                                     [key], {});\n",
              "          if (!dataTable) return;\n",
              "\n",
              "          const docLinkHtml = 'Like what you see? Visit the ' +\n",
              "            '<a target=\"_blank\" href=https://colab.research.google.com/notebooks/data_table.ipynb>data table notebook</a>'\n",
              "            + ' to learn more about interactive tables.';\n",
              "          element.innerHTML = '';\n",
              "          dataTable['output_type'] = 'display_data';\n",
              "          await google.colab.output.renderOutput(dataTable, element);\n",
              "          const docLink = document.createElement('div');\n",
              "          docLink.innerHTML = docLinkHtml;\n",
              "          element.appendChild(docLink);\n",
              "        }\n",
              "      </script>\n",
              "    </div>\n",
              "  </div>\n",
              "  "
            ]
          },
          "metadata": {},
          "execution_count": 7
        }
      ]
    },
    {
      "cell_type": "markdown",
      "source": [
        "##Matplotlib"
      ],
      "metadata": {
        "id": "VttOMMDRzeFz"
      }
    },
    {
      "cell_type": "code",
      "source": [
        "import matplotlib.pyplot as plt\n",
        "xpoints = np.array([5, 10])\n",
        "ypoints = np.array([0, 25])\n",
        "plt.title(\"Plotting Points\")\n",
        "plt.plot(xpoints, ypoints)\n",
        "plt.show()"
      ],
      "metadata": {
        "colab": {
          "base_uri": "https://localhost:8080/",
          "height": 452
        },
        "id": "pgBEnqsYioGT",
        "outputId": "45807356-9635-480d-b9c3-de15de1b3534"
      },
      "execution_count": null,
      "outputs": [
        {
          "output_type": "display_data",
          "data": {
            "text/plain": [
              "<Figure size 640x480 with 1 Axes>"
            ],
            "image/png": "[encoded data removed]"
          },
          "metadata": {}
        }
      ]
    },
    {
      "cell_type": "markdown",
      "source": [
        "##Linear Regression"
      ],
      "metadata": {
        "id": "T38kBSYCyJe8"
      }
    },
    {
      "cell_type": "code",
      "source": [
        "from sklearn.linear_model import LinearRegression"
      ],
      "metadata": {
        "id": "_Zh2zqhmyOPp"
      },
      "execution_count": null,
      "outputs": []
    },
    {
      "cell_type": "code",
      "source": [
        "from google.colab import drive"
      ],
      "metadata": {
        "id": "Q-5M_Oh_qHfj"
      },
      "execution_count": null,
      "outputs": []
    },
    {
      "cell_type": "code",
      "source": [
        "drive.mount(\"/content/drive\")"
      ],
      "metadata": {
        "colab": {
          "base_uri": "https://localhost:8080/"
        },
        "id": "ryzE2AUuqNlx",
        "outputId": "3ce4aa56-db54-4077-98da-9b5e099282f0"
      },
      "execution_count": null,
      "outputs": [
        {
          "output_type": "stream",
          "name": "stdout",
          "text": [
            "Mounted at /content/drive\n"
          ]
        }
      ]
    },
    {
      "cell_type": "code",
      "source": [
        "df = pd.read_csv('/content/drive/MyDrive/LR.csv')\n",
        "print(df)"
      ],
      "metadata": {
        "colab": {
          "base_uri": "https://localhost:8080/"
        },
        "id": "VsWdYZ1olvQs",
        "outputId": "834d28c0-819e-45c1-d802-8f100850e5b6"
      },
      "execution_count": null,
      "outputs": [
        {
          "output_type": "stream",
          "name": "stdout",
          "text": [
            "       X           Y\n",
            "0      1    3.888889\n",
            "1      2    4.555556\n",
            "2      3    5.222222\n",
            "3      4    5.888889\n",
            "4      5    6.555556\n",
            "..   ...         ...\n",
            "295  296  200.555556\n",
            "296  297  201.222222\n",
            "297  298  201.888889\n",
            "298  299    1.888889\n",
            "299  300    1.888889\n",
            "\n",
            "[300 rows x 2 columns]\n"
          ]
        }
      ]
    },
    {
      "cell_type": "code",
      "source": [
        "model = LinearRegression()\n",
        "model.fit(df['X'].values.reshape(-1,1), df['Y'].values)"
      ],
      "metadata": {
        "colab": {
          "base_uri": "https://localhost:8080/",
          "height": 74
        },
        "id": "0Xfe_La2lz31",
        "outputId": "dedb493d-9ac9-4e03-d782-ac5bd055116a"
      },
      "execution_count": null,
      "outputs": [
        {
          "output_type": "execute_result",
          "data": {
            "text/plain": [
              "LinearRegression()"
            ],
            "text/html": [
              "<style>#sk-container-id-1 {color: black;background-color: white;}#sk-container-id-1 pre{padding: 0;}#sk-container-id-1 div.sk-toggleable {background-color: white;}#sk-container-id-1 label.sk-toggleable__label {cursor: pointer;display: block;width: 100%;margin-bottom: 0;padding: 0.3em;box-sizing: border-box;text-align: center;}#sk-container-id-1 label.sk-toggleable__label-arrow:before {content: \"▸\";float: left;margin-right: 0.25em;color: #696969;}#sk-container-id-1 label.sk-toggleable__label-arrow:hover:before {color: black;}#sk-container-id-1 div.sk-estimator:hover label.sk-toggleable__label-arrow:before {color: black;}#sk-container-id-1 div.sk-toggleable__content {max-height: 0;max-width: 0;overflow: hidden;text-align: left;background-color: #f0f8ff;}#sk-container-id-1 div.sk-toggleable__content pre {margin: 0.2em;color: black;border-radius: 0.25em;background-color: #f0f8ff;}#sk-container-id-1 input.sk-toggleable__control:checked~div.sk-toggleable__content {max-height: 200px;max-width: 100%;overflow: auto;}#sk-container-id-1 input.sk-toggleable__control:checked~label.sk-toggleable__label-arrow:before {content: \"▾\";}#sk-container-id-1 div.sk-estimator input.sk-toggleable__control:checked~label.sk-toggleable__label {background-color: #d4ebff;}#sk-container-id-1 div.sk-label input.sk-toggleable__control:checked~label.sk-toggleable__label {background-color: #d4ebff;}#sk-container-id-1 input.sk-hidden--visually {border: 0;clip: rect(1px 1px 1px 1px);clip: rect(1px, 1px, 1px, 1px);height: 1px;margin: -1px;overflow: hidden;padding: 0;position: absolute;width: 1px;}#sk-container-id-1 div.sk-estimator {font-family: monospace;background-color: #f0f8ff;border: 1px dotted black;border-radius: 0.25em;box-sizing: border-box;margin-bottom: 0.5em;}#sk-container-id-1 div.sk-estimator:hover {background-color: #d4ebff;}#sk-container-id-1 div.sk-parallel-item::after {content: \"\";width: 100%;border-bottom: 1px solid gray;flex-grow: 1;}#sk-container-id-1 div.sk-label:hover label.sk-toggleable__label {background-color: #d4ebff;}#sk-container-id-1 div.sk-serial::before {content: \"\";position: absolute;border-left: 1px solid gray;box-sizing: border-box;top: 0;bottom: 0;left: 50%;z-index: 0;}#sk-container-id-1 div.sk-serial {display: flex;flex-direction: column;align-items: center;background-color: white;padding-right: 0.2em;padding-left: 0.2em;position: relative;}#sk-container-id-1 div.sk-item {position: relative;z-index: 1;}#sk-container-id-1 div.sk-parallel {display: flex;align-items: stretch;justify-content: center;background-color: white;position: relative;}#sk-container-id-1 div.sk-item::before, #sk-container-id-1 div.sk-parallel-item::before {content: \"\";position: absolute;border-left: 1px solid gray;box-sizing: border-box;top: 0;bottom: 0;left: 50%;z-index: -1;}#sk-container-id-1 div.sk-parallel-item {display: flex;flex-direction: column;z-index: 1;position: relative;background-color: white;}#sk-container-id-1 div.sk-parallel-item:first-child::after {align-self: flex-end;width: 50%;}#sk-container-id-1 div.sk-parallel-item:last-child::after {align-self: flex-start;width: 50%;}#sk-container-id-1 div.sk-parallel-item:only-child::after {width: 0;}#sk-container-id-1 div.sk-dashed-wrapped {border: 1px dashed gray;margin: 0 0.4em 0.5em 0.4em;box-sizing: border-box;padding-bottom: 0.4em;background-color: white;}#sk-container-id-1 div.sk-label label {font-family: monospace;font-weight: bold;display: inline-block;line-height: 1.2em;}#sk-container-id-1 div.sk-label-container {text-align: center;}#sk-container-id-1 div.sk-container {/* jupyter's `normalize.less` sets `[hidden] { display: none; }` but bootstrap.min.css set `[hidden] { display: none !important; }` so we also need the `!important` here to be able to override the default hidden behavior on the sphinx rendered scikit-learn.org. See: https://github.com/scikit-learn/scikit-learn/issues/21755 */display: inline-block !important;position: relative;}#sk-container-id-1 div.sk-text-repr-fallback {display: none;}</style><div id=\"sk-container-id-1\" class=\"sk-top-container\"><div class=\"sk-text-repr-fallback\"><pre>LinearRegression()</pre><b>In a Jupyter environment, please rerun this cell to show the HTML representation or trust the notebook. <br />On GitHub, the HTML representation is unable to render, please try loading this page with nbviewer.org.</b></div><div class=\"sk-container\" hidden><div class=\"sk-item\"><div class=\"sk-estimator sk-toggleable\"><input class=\"sk-toggleable__control sk-hidden--visually\" id=\"sk-estimator-id-1\" type=\"checkbox\" checked><label for=\"sk-estimator-id-1\" class=\"sk-toggleable__label sk-toggleable__label-arrow\">LinearRegression</label><div class=\"sk-toggleable__content\"><pre>LinearRegression()</pre></div></div></div></div></div>"
            ]
          },
          "metadata": {},
          "execution_count": 20
        }
      ]
    },
    {
      "cell_type": "code",
      "source": [
        "plt.scatter(df['X'].values, df['Y'].values, c='blue', marker='*')\n",
        "plt.plot(df['X'].values, model.predict(df['X'].values.reshape(-1, 1)), c='red')\n",
        "plt.title(\"Linear Regression Scikit Learn\")\n",
        "plt.xlabel(\"X\")\n",
        "plt.ylabel(\"Y\")\n",
        "plt.legend()\n",
        "plt.show()"
      ],
      "metadata": {
        "colab": {
          "base_uri": "https://localhost:8080/",
          "height": 509
        },
        "id": "hMHoDuDqqUzS",
        "outputId": "8bd7dedf-509e-43bd-ae70-fbd2c45495b4"
      },
      "execution_count": null,
      "outputs": [
        {
          "output_type": "stream",
          "name": "stderr",
          "text": [
            "WARNING:matplotlib.legend:No artists with labels found to put in legend.  Note that artists whose label start with an underscore are ignored when legend() is called with no argument.\n"
          ]
        },
        {
          "output_type": "display_data",
          "data": {
            "text/plain": [
              "<Figure size 640x480 with 1 Axes>"
            ],
            "image/png": "[encoded data removed]"
          },
          "metadata": {}
        }
      ]
    },
    {
      "cell_type": "code",
      "source": [
        "y_pred = model.predict(df['X'].values.reshape(-1,1))"
      ],
      "metadata": {
        "id": "Kg8Q_rTo0kVg"
      },
      "execution_count": null,
      "outputs": []
    },
    {
      "cell_type": "markdown",
      "source": [
        "###Error Metrics"
      ],
      "metadata": {
        "id": "YeJBVgVi0Jny"
      }
    },
    {
      "cell_type": "code",
      "source": [
        "from sklearn.metrics import mean_squared_error\n",
        "from sklearn.metrics import mean_absolute_error"
      ],
      "metadata": {
        "id": "2NdF7YjvyY8R"
      },
      "execution_count": null,
      "outputs": []
    },
    {
      "cell_type": "code",
      "source": [
        "#MSE value\n",
        "mean_squared_error(df['Y'].values,y_pred)"
      ],
      "metadata": {
        "colab": {
          "base_uri": "https://localhost:8080/"
        },
        "id": "xoIMmLh127yY",
        "outputId": "58b76c96-41b3-4956-9dbf-16c82a6af088"
      },
      "execution_count": null,
      "outputs": [
        {
          "output_type": "execute_result",
          "data": {
            "text/plain": [
              "262.22980714499374"
            ]
          },
          "metadata": {},
          "execution_count": 29
        }
      ]
    },
    {
      "cell_type": "code",
      "source": [
        "#RMSE value\n",
        "mean_squared_error(df['Y'].values,y_pred, squared=False)"
      ],
      "metadata": {
        "colab": {
          "base_uri": "https://localhost:8080/"
        },
        "id": "LjEpJVwQ4ZG2",
        "outputId": "e5ceda94-63cf-402c-879a-15c897c4eaa9"
      },
      "execution_count": null,
      "outputs": [
        {
          "output_type": "execute_result",
          "data": {
            "text/plain": [
              "16.19351126670784"
            ]
          },
          "metadata": {},
          "execution_count": 30
        }
      ]
    },
    {
      "cell_type": "code",
      "source": [
        "#MAE value\n",
        "mean_absolute_error(df['Y'].values, y_pred)"
      ],
      "metadata": {
        "colab": {
          "base_uri": "https://localhost:8080/"
        },
        "id": "IZfClrpb4s4e",
        "outputId": "d3f6d1d7-7de7-4eb2-e158-010937566f82"
      },
      "execution_count": null,
      "outputs": [
        {
          "output_type": "execute_result",
          "data": {
            "text/plain": [
              "3.4906965548022812"
            ]
          },
          "metadata": {},
          "execution_count": 31
        }
      ]
    },
    {
      "cell_type": "code",
      "source": [],
      "metadata": {
        "id": "h7DPkOZBzqmr"
      },
      "execution_count": null,
      "outputs": []
    }
  ]
}